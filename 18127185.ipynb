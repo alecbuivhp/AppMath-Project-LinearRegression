{
 "metadata": {
  "language_info": {
   "codemirror_mode": {
    "name": "ipython",
    "version": 3
   },
   "file_extension": ".py",
   "mimetype": "text/x-python",
   "name": "python",
   "nbconvert_exporter": "python",
   "pygments_lexer": "ipython3",
   "version": "3.7.6-final"
  },
  "orig_nbformat": 2,
  "kernelspec": {
   "name": "python3",
   "display_name": "Python 3"
  }
 },
 "nbformat": 4,
 "nbformat_minor": 2,
 "cells": [
  {
   "cell_type": "markdown",
   "metadata": {},
   "source": [
    "# Đồ án 3: Linear Regression"
   ]
  },
  {
   "cell_type": "code",
   "execution_count": 56,
   "metadata": {},
   "outputs": [],
   "source": [
    "import pandas as pd\n",
    "import numpy as np\n",
    "from sklearn.model_selection import KFold\n",
    "from sklearn import linear_model"
   ]
  },
  {
   "cell_type": "code",
   "execution_count": 57,
   "metadata": {},
   "outputs": [],
   "source": [
    "def LinearRegression(A, b):\n",
    "    reg = linear_model.LinearRegression().fit(A, b)\n",
    "    return reg.coef_, reg.intercept_"
   ]
  },
  {
   "cell_type": "code",
   "execution_count": 58,
   "metadata": {},
   "outputs": [],
   "source": [
    "def CrossValidation(A, b, kfold):\n",
    "    kf = KFold(n_splits=kfold)\n",
    "    error_list = []\n",
    "\n",
    "    for train_index, test_index in kf.split(A):\n",
    "        A_train, A_test = A[train_index], A[test_index]\n",
    "        b_train, b_test = b[train_index], b[test_index]\n",
    "        x, bias = LinearRegression(A_train, b_train)\n",
    "        error_list.append(np.mean(np.absolute(b_test - (np.dot(A_test, x) + bias))))\n",
    "\n",
    "    return np.mean(error_list)"
   ]
  },
  {
   "cell_type": "code",
   "execution_count": 59,
   "metadata": {},
   "outputs": [],
   "source": [
    "def chooseBestProperty(A, b):\n",
    "    result = []\n",
    "\n",
    "    for i in range(A.shape[1]):\n",
    "        cv_prop = CrossValidation(A[:, i:i + 1], b, 10)\n",
    "        result.append(cv_prop)\n",
    "    \n",
    "    return result, np.argmin(result)"
   ]
  },
  {
   "cell_type": "code",
   "execution_count": 60,
   "metadata": {},
   "outputs": [],
   "source": [
    "def buildModel(A, b, error_list, label_len):\n",
    "    sorted_error = np.argsort(error_list)\n",
    "\n",
    "    full_error = CrossValidation(A, b, 10)\n",
    "\n",
    "    error_list = []\n",
    "    cv_error_list = []\n",
    "    prop_list = []\n",
    "\n",
    "    for i in range(2, label_len - 1):\n",
    "        prop_to_pick = sorted_error[:i]\n",
    "        A_build = A[:, prop_to_pick]\n",
    "        error = CrossValidation(A_build, b, 10)\n",
    "        cv_error_list.append(error)\n",
    "        error_list.append(np.absolute(full_error - error))\n",
    "        prop_list.append(prop_to_pick)\n",
    "\n",
    "    return cv_error_list, prop_list, np.argmin(error_list)"
   ]
  },
  {
   "cell_type": "code",
   "execution_count": 61,
   "metadata": {},
   "outputs": [],
   "source": [
    "df = pd.read_csv('wine.csv', sep=';')"
   ]
  },
  {
   "cell_type": "code",
   "execution_count": 62,
   "metadata": {
    "tags": []
   },
   "outputs": [],
   "source": [
    "label = df.columns\n",
    "properties = df.iloc[:, : -1].to_numpy()\n",
    "rate = df.iloc[:, -1].to_numpy()"
   ]
  },
  {
   "cell_type": "code",
   "execution_count": 63,
   "metadata": {
    "tags": []
   },
   "outputs": [
    {
     "output_type": "execute_result",
     "data": {
      "text/plain": "(array([ 4.75247531e-02, -1.06874258e+00, -2.68710829e-01,  3.49742662e-02,\n        -1.59729560e+00,  3.48788138e-03, -3.79835506e-03, -3.94690810e+01,\n        -2.45575908e-01,  7.73840794e-01,  2.69377496e-01]),\n 42.91716245147436)"
     },
     "metadata": {},
     "execution_count": 63
    }
   ],
   "source": [
    "LinearRegression(properties, rate)"
   ]
  },
  {
   "cell_type": "code",
   "execution_count": 64,
   "metadata": {
    "tags": []
   },
   "outputs": [
    {
     "output_type": "execute_result",
     "data": {
      "text/plain": "0.5094507964775307"
     },
     "metadata": {},
     "execution_count": 64
    }
   ],
   "source": [
    "CrossValidation(properties, rate, 10)"
   ]
  },
  {
   "cell_type": "code",
   "execution_count": 65,
   "metadata": {
    "tags": []
   },
   "outputs": [
    {
     "output_type": "stream",
     "name": "stdout",
     "text": "Best property is alcohol\n[0.37471047]\n1.7740758844499194\n"
    }
   ],
   "source": [
    "error_list, best_index = chooseBestProperty(properties, rate)\n",
    "print(f'Best property is {label[best_index]}')\n",
    "x, b0 = LinearRegression(properties[:, best_index:best_index + 1], rate)\n",
    "print(x)\n",
    "print(b0)"
   ]
  },
  {
   "cell_type": "code",
   "execution_count": 66,
   "metadata": {
    "tags": []
   },
   "outputs": [
    {
     "output_type": "stream",
     "name": "stdout",
     "text": "Best properties are Index(['alcohol', 'volatile acidity', 'total sulfur dioxide', 'citric acid',\n       'sulphates', 'density', 'fixed acidity', 'chlorides',\n       'free sulfur dioxide'],\n      dtype='object')\n[ 2.79228621e-01 -1.08519171e+00 -3.27609434e-03 -2.50067753e-01\n  7.55341209e-01 -3.10768383e+01  5.89618605e-02 -1.44151674e+00\n  2.85670572e-03]\n33.61492533087279\n0.5104161230846668\n"
    }
   ],
   "source": [
    "cv_error_list, prop_list, best_index_prop = buildModel(properties, rate, error_list, len(label))\n",
    "print(f'Best properties are {label[prop_list[best_index_prop]]}')\n",
    "x, b0 = LinearRegression(properties[:, prop_list[best_index_prop]], rate)\n",
    "print(x)\n",
    "print(b0)\n",
    "print(cv_error_list[best_index_prop])"
   ]
  }
 ]
}