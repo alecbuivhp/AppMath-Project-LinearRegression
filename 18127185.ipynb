{
 "metadata": {
  "language_info": {
   "codemirror_mode": {
    "name": "ipython",
    "version": 3
   },
   "file_extension": ".py",
   "mimetype": "text/x-python",
   "name": "python",
   "nbconvert_exporter": "python",
   "pygments_lexer": "ipython3",
   "version": "3.7.6-final"
  },
  "orig_nbformat": 2,
  "kernelspec": {
   "name": "python3",
   "display_name": "Python 3"
  }
 },
 "nbformat": 4,
 "nbformat_minor": 2,
 "cells": [
  {
   "cell_type": "markdown",
   "metadata": {},
   "source": [
    "# Đồ án 3: Linear Regression"
   ]
  },
  {
   "cell_type": "markdown",
   "metadata": {},
   "source": [
    "## Import thư viện"
   ]
  },
  {
   "cell_type": "code",
   "execution_count": null,
   "metadata": {},
   "outputs": [],
   "source": [
    "import pandas as pd\n",
    "import numpy as np\n",
    "from sklearn import linear_model\n",
    "from sklearn.model_selection import KFold"
   ]
  },
  {
   "cell_type": "markdown",
   "metadata": {},
   "source": [
    "## Linear Regresstion"
   ]
  },
  {
   "cell_type": "code",
   "execution_count": null,
   "metadata": {},
   "outputs": [],
   "source": [
    "def LinearRegression(A, b):\n",
    "    reg = linear_model.LinearRegression().fit(A, b)\n",
    "    return reg.coef_, reg.intercept_"
   ]
  },
  {
   "cell_type": "markdown",
   "metadata": {},
   "source": [
    "## Cross Validation"
   ]
  },
  {
   "cell_type": "code",
   "execution_count": null,
   "metadata": {},
   "outputs": [],
   "source": [
    "def CrossValidation(A, b, kfold):\n",
    "    kf = KFold(n_splits=kfold)\n",
    "    error_list = []\n",
    "\n",
    "    for train_index, test_index in kf.split(A):\n",
    "        A_train, A_test = A[train_index], A[test_index]\n",
    "        b_train, b_test = b[train_index], b[test_index]\n",
    "        x, bias = LinearRegression(A_train, b_train)\n",
    "        error_list.append(np.mean(np.absolute(b_test - (np.dot(A_test, x) + bias))))\n",
    "\n",
    "    return np.mean(error_list)"
   ]
  },
  {
   "cell_type": "markdown",
   "metadata": {},
   "source": [
    "## Chọn tính chất tốt nhất"
   ]
  },
  {
   "cell_type": "code",
   "execution_count": null,
   "metadata": {},
   "outputs": [],
   "source": [
    "def chooseBestProperty(A, b):\n",
    "    result = []\n",
    "\n",
    "    for i in range(A.shape[1]):\n",
    "        cv_prop = CrossValidation(A[:, i:i + 1], b, 10)\n",
    "        result.append(cv_prop)\n",
    "    \n",
    "    return result, np.argmin(result)"
   ]
  },
  {
   "cell_type": "markdown",
   "metadata": {},
   "source": [
    "## Xây dựng model (Chọn top các tính chất để xây dựng)"
   ]
  },
  {
   "cell_type": "code",
   "execution_count": null,
   "metadata": {},
   "outputs": [],
   "source": [
    "def buildModel(A, b, error_list, label_len):\n",
    "    sorted_error = np.argsort(error_list)\n",
    "    full_error = CrossValidation(A, b, 10)\n",
    "\n",
    "    error_list = []\n",
    "    cv_error_list = []\n",
    "    prop_list = []\n",
    "\n",
    "    for i in range(2, label_len - 1):\n",
    "        prop_to_pick = sorted_error[:i]\n",
    "        A_build = A[:, prop_to_pick]\n",
    "        error = CrossValidation(A_build, b, 10)\n",
    "        cv_error_list.append(error)\n",
    "        error_list.append(np.absolute(full_error - error))\n",
    "        prop_list.append(prop_to_pick)\n",
    "\n",
    "    return cv_error_list, prop_list, np.argmin(error_list)"
   ]
  },
  {
   "cell_type": "markdown",
   "metadata": {},
   "source": [
    "## Test functions"
   ]
  },
  {
   "cell_type": "markdown",
   "metadata": {},
   "source": [
    "### Đọc và tách dữ liệu"
   ]
  },
  {
   "cell_type": "code",
   "execution_count": null,
   "metadata": {},
   "outputs": [],
   "source": [
    "df = pd.read_csv('wine.csv', sep=';')"
   ]
  },
  {
   "cell_type": "code",
   "execution_count": null,
   "metadata": {
    "tags": []
   },
   "outputs": [],
   "source": [
    "label = df.columns\n",
    "properties = df.iloc[:, : -1].to_numpy()\n",
    "rate = df.iloc[:, -1].to_numpy()"
   ]
  },
  {
   "cell_type": "markdown",
   "metadata": {},
   "source": [
    "### Câu a: Xây dựng mô hình trên tất cả các tính chất"
   ]
  },
  {
   "cell_type": "code",
   "execution_count": null,
   "metadata": {
    "tags": []
   },
   "outputs": [],
   "source": [
    "# Xây dựng mô hình\n",
    "x_a, bias_a = LinearRegression(properties, rate)\n",
    "\n",
    "# Tính sai số của mô hình\n",
    "error_a = CrossValidation(properties, rate, 10)"
   ]
  },
  {
   "cell_type": "code",
   "execution_count": null,
   "metadata": {
    "tags": []
   },
   "outputs": [],
   "source": [
    "print(f'Model: A{x_a} + {bias_a} = b')\n",
    "print(f'CV error: {error_a}')"
   ]
  },
  {
   "cell_type": "markdown",
   "metadata": {},
   "source": [
    "### Câu b: Chọn tính chất tốt nhất và xây dựng mô hình trên tính chất đó"
   ]
  },
  {
   "cell_type": "code",
   "execution_count": null,
   "metadata": {
    "tags": []
   },
   "outputs": [],
   "source": [
    "# Chọn tính chất tốt nhất\n",
    "error_list, best_index = chooseBestProperty(properties, rate)\n",
    "\n",
    "# Xây dựng mô hình\n",
    "x_b, bias_b = LinearRegression(properties[:, best_index:best_index + 1], rate)"
   ]
  },
  {
   "cell_type": "code",
   "execution_count": null,
   "metadata": {
    "tags": []
   },
   "outputs": [],
   "source": [
    "print(f'Best property is {label[best_index]}')\n",
    "print(f'Model: A{x_b} + {bias_b} = b')\n",
    "print(f'CV error: {error_list[best_index]}')"
   ]
  },
  {
   "cell_type": "markdown",
   "metadata": {},
   "source": [
    "## Câu c: Xây dựng mô hình riêng"
   ]
  },
  {
   "cell_type": "code",
   "execution_count": null,
   "metadata": {
    "tags": []
   },
   "outputs": [],
   "source": [
    "# Chọn top x tính chất tốt nhất (x nào là tốt nhất)\n",
    "cv_error_list, prop_list, best_index_prop = buildModel(properties, rate, error_list, len(label))\n",
    "\n",
    "# Xây dựng mô hình\n",
    "x_c, bias_c = LinearRegression(properties[:, prop_list[best_index_prop]], rate)"
   ]
  },
  {
   "cell_type": "code",
   "execution_count": null,
   "metadata": {
    "tags": []
   },
   "outputs": [],
   "source": [
    "print(f'Best properties are: {list(label[prop_list[best_index_prop]])}')\n",
    "print(f'Model: A{x_c} + {bias_c} = b')\n",
    "print(f'CV error: {cv_error_list[best_index_prop]}')"
   ]
  }
 ]
}